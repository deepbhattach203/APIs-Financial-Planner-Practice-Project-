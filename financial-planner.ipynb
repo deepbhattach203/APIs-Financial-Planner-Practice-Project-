{
 "cells": [
  {
   "cell_type": "markdown",
   "metadata": {},
   "source": [
    "# Unit 5 - Financial Planning\n"
   ]
  },
  {
   "cell_type": "code",
   "execution_count": 1,
   "metadata": {},
   "outputs": [],
   "source": [
    "# Initial imports\n",
    "import os\n",
    "import requests\n",
    "import pandas as pd\n",
    "from dotenv import load_dotenv\n",
    "import alpaca_trade_api as tradeapi\n",
    "from MCForecastTools import MCSimulation\n",
    "\n",
    "%matplotlib inline"
   ]
  },
  {
   "cell_type": "code",
   "execution_count": 2,
   "metadata": {},
   "outputs": [
    {
     "data": {
      "text/plain": [
       "True"
      ]
     },
     "execution_count": 2,
     "metadata": {},
     "output_type": "execute_result"
    }
   ],
   "source": [
    "# Load .env enviroment variables\n",
    "load_dotenv()"
   ]
  },
  {
   "cell_type": "markdown",
   "metadata": {},
   "source": [
    "## Part 1 - Personal Finance Planner"
   ]
  },
  {
   "cell_type": "markdown",
   "metadata": {},
   "source": [
    "### Collect Crypto Prices Using the `requests` Library"
   ]
  },
  {
   "cell_type": "code",
   "execution_count": 3,
   "metadata": {},
   "outputs": [],
   "source": [
    "# Set current amount of crypto assets\n",
    "# YOUR CODE HERE!\n",
    "my_btc=1.2\n",
    "my_eth=5.3\n"
   ]
  },
  {
   "cell_type": "code",
   "execution_count": 4,
   "metadata": {},
   "outputs": [],
   "source": [
    "# Crypto API URLs\n",
    "btc_url = \"https://api.alternative.me/v2/ticker/Bitcoin/?convert=CAD\"\n",
    "eth_url = \"https://api.alternative.me/v2/ticker/Ethereum/?convert=CAD\""
   ]
  },
  {
   "cell_type": "code",
   "execution_count": 5,
   "metadata": {},
   "outputs": [
    {
     "name": "stdout",
     "output_type": "stream",
     "text": [
      "The current price of BTC is 12779.05\n",
      "The current price of BTC is 405.55\n",
      "The current value of your 1.2 BTC is $15334.859999999999\n",
      "The current value of your 5.3 ETH is $2149.415\n"
     ]
    }
   ],
   "source": [
    "import json\n",
    "\n",
    "# Fetch current BTC price\n",
    "# YOUR CODE HERE!\n",
    "request_btc_url=requests.get(btc_url)\n",
    "response_data_btc = requests.get(btc_url)\n",
    "data_btc = response_data_btc.json()\n",
    "btc_price= data_btc['data']['1']['quotes']['USD']['price']\n",
    "print(f\"The current price of BTC is {btc_price}\")\n",
    "# Fetch current ETH price\n",
    "# YOUR CODE HERE!]\n",
    "request_btc_eth=requests.get(eth_url)\n",
    "response_data_eth = requests.get(eth_url)\n",
    "data_eth = response_data_eth.json()\n",
    "eth_price= data_eth['data']['1027']['quotes']['USD']['price']\n",
    "print(f\"The current price of BTC is {eth_price}\")\n",
    "# Compute current value of my crpto\n",
    "# YOUR CODE HERE!\n",
    "btc_value= my_btc*btc_price\n",
    "eth_value= my_eth*eth_price\n",
    "total_crypto_value= btc_value+eth_value\n",
    "\n",
    "# Print current crypto wallet balance\n",
    "print(f\"The current value of your {my_btc} BTC is ${btc_value}\")\n",
    "print(f\"The current value of your {my_eth} ETH is ${eth_value}\")"
   ]
  },
  {
   "cell_type": "markdown",
   "metadata": {},
   "source": [
    "### Collect Investments Data Using Alpaca: `SPY` (stocks) and `AGG` (bonds)"
   ]
  },
  {
   "cell_type": "code",
   "execution_count": 6,
   "metadata": {},
   "outputs": [],
   "source": [
    "# Current amount of shares\n",
    "# YOUR CODE HERE!\n",
    "my_agg = 200\n",
    "my_spy = 50"
   ]
  },
  {
   "cell_type": "code",
   "execution_count": 7,
   "metadata": {},
   "outputs": [],
   "source": [
    "# Set Alpaca API key and secret\n",
    "# YOUR CODE HERE!\n",
    "api_key = os.getenv(\"ALPACA_API_KEY\")\n",
    "api_secret_key = os.getenv(\"ALPACA_SECRET_KEY\")\n",
    "\n",
    "# Create the Alpaca API object\n",
    "# YOUR CODE HERE!\n",
    "alpaca = tradeapi.REST(\n",
    "    api_key,\n",
    "    api_secret_key,\n",
    "    api_version=\"v2\")\n"
   ]
  },
  {
   "cell_type": "code",
   "execution_count": 8,
   "metadata": {},
   "outputs": [
    {
     "data": {
      "text/html": [
       "<div>\n",
       "<style scoped>\n",
       "    .dataframe tbody tr th:only-of-type {\n",
       "        vertical-align: middle;\n",
       "    }\n",
       "\n",
       "    .dataframe tbody tr th {\n",
       "        vertical-align: top;\n",
       "    }\n",
       "\n",
       "    .dataframe thead tr th {\n",
       "        text-align: left;\n",
       "    }\n",
       "</style>\n",
       "<table border=\"1\" class=\"dataframe\">\n",
       "  <thead>\n",
       "    <tr>\n",
       "      <th></th>\n",
       "      <th colspan=\"5\" halign=\"left\">AGG</th>\n",
       "      <th colspan=\"5\" halign=\"left\">SPY</th>\n",
       "    </tr>\n",
       "    <tr>\n",
       "      <th></th>\n",
       "      <th>open</th>\n",
       "      <th>high</th>\n",
       "      <th>low</th>\n",
       "      <th>close</th>\n",
       "      <th>volume</th>\n",
       "      <th>open</th>\n",
       "      <th>high</th>\n",
       "      <th>low</th>\n",
       "      <th>close</th>\n",
       "      <th>volume</th>\n",
       "    </tr>\n",
       "  </thead>\n",
       "  <tbody>\n",
       "    <tr>\n",
       "      <th>2020-10-22 00:00:00-04:00</th>\n",
       "      <td>117.51</td>\n",
       "      <td>117.54</td>\n",
       "      <td>117.3</td>\n",
       "      <td>117.31</td>\n",
       "      <td>3933253</td>\n",
       "      <td>342.96</td>\n",
       "      <td>345.24</td>\n",
       "      <td>340.65</td>\n",
       "      <td>344.63</td>\n",
       "      <td>45033179</td>\n",
       "    </tr>\n",
       "  </tbody>\n",
       "</table>\n",
       "</div>"
      ],
      "text/plain": [
       "                              AGG                                     SPY  \\\n",
       "                             open    high    low   close   volume    open   \n",
       "2020-10-22 00:00:00-04:00  117.51  117.54  117.3  117.31  3933253  342.96   \n",
       "\n",
       "                                                             \n",
       "                             high     low   close    volume  \n",
       "2020-10-22 00:00:00-04:00  345.24  340.65  344.63  45033179  "
      ]
     },
     "execution_count": 8,
     "metadata": {},
     "output_type": "execute_result"
    }
   ],
   "source": [
    "# Format current date as ISO format\n",
    "# YOUR CODE HERE!\n",
    "start = pd.Timestamp(\"2020-10-22\", tz=\"America/New_York\").isoformat()\n",
    "end = pd.Timestamp(\"2020-10-22\", tz=\"America/New_York\").isoformat()\n",
    "\n",
    "# Set the tickers\n",
    "tickers = [\"AGG\", \"SPY\"]\n",
    "\n",
    "# Set timeframe to '1D' for Alpaca API\n",
    "timeframe = \"1D\"\n",
    "\n",
    "# Get current closing prices for SPY and AGG\n",
    "# YOUR CODE HERE!\n",
    "portfolio = alpaca.get_barset(\n",
    "    tickers,\n",
    "    timeframe,\n",
    "    start = start,\n",
    "    end = start\n",
    ").df\n",
    "\n",
    "# Preview DataFrame\n",
    "# YOUR CODE HERE!\n",
    "portfolio.head()"
   ]
  },
  {
   "cell_type": "code",
   "execution_count": 9,
   "metadata": {},
   "outputs": [
    {
     "name": "stdout",
     "output_type": "stream",
     "text": [
      "Current AGG closing price: $117.31\n",
      "Current SPY closing price: $344.63\n"
     ]
    }
   ],
   "source": [
    "# Pick AGG and SPY close prices\n",
    "# YOUR CODE HERE!\n",
    "agg_close_price = portfolio[\"AGG\"][\"close\"][0]\n",
    "spy_close_price= portfolio[\"SPY\"][\"close\"][0]\n",
    "\n",
    "# Print AGG and SPY close prices\n",
    "print(f\"Current AGG closing price: ${agg_close_price}\")\n",
    "print(f\"Current SPY closing price: ${spy_close_price}\")"
   ]
  },
  {
   "cell_type": "code",
   "execution_count": 10,
   "metadata": {},
   "outputs": [
    {
     "name": "stdout",
     "output_type": "stream",
     "text": [
      "The current value of your 50 SPY shares is $23462.0\n",
      "The current value of your 200 AGG shares is $17231.5\n"
     ]
    }
   ],
   "source": [
    "# Compute the current value of shares\n",
    "# YOUR CODE HERE!\n",
    "agg_value= my_agg*agg_close_price\n",
    "spy_value= my_spy*spy_close_price\n",
    "total_shares_value= agg_value+spy_value\n",
    "\n",
    "# Print current value of share\n",
    "print(f\"The current value of your {my_spy} SPY shares is ${agg_value}\")\n",
    "print(f\"The current value of your {my_agg} AGG shares is ${spy_value}\")"
   ]
  },
  {
   "cell_type": "markdown",
   "metadata": {},
   "source": [
    "### Savings Health Analysis"
   ]
  },
  {
   "cell_type": "code",
   "execution_count": 12,
   "metadata": {},
   "outputs": [
    {
     "data": {
      "text/html": [
       "<div>\n",
       "<style scoped>\n",
       "    .dataframe tbody tr th:only-of-type {\n",
       "        vertical-align: middle;\n",
       "    }\n",
       "\n",
       "    .dataframe tbody tr th {\n",
       "        vertical-align: top;\n",
       "    }\n",
       "\n",
       "    .dataframe thead th {\n",
       "        text-align: right;\n",
       "    }\n",
       "</style>\n",
       "<table border=\"1\" class=\"dataframe\">\n",
       "  <thead>\n",
       "    <tr style=\"text-align: right;\">\n",
       "      <th></th>\n",
       "      <th>amount</th>\n",
       "    </tr>\n",
       "  </thead>\n",
       "  <tbody>\n",
       "    <tr>\n",
       "      <th>crypto</th>\n",
       "      <td>17484.275</td>\n",
       "    </tr>\n",
       "    <tr>\n",
       "      <th>shares</th>\n",
       "      <td>40693.500</td>\n",
       "    </tr>\n",
       "  </tbody>\n",
       "</table>\n",
       "</div>"
      ],
      "text/plain": [
       "           amount\n",
       "crypto  17484.275\n",
       "shares  40693.500"
      ]
     },
     "metadata": {},
     "output_type": "display_data"
    }
   ],
   "source": [
    "# Set monthly household income\n",
    "# YOUR CODE HERE!\n",
    "monthly_income = 12000\n",
    "# Create savings DataFrame\n",
    "# YOUR CODE HERE!\n",
    "data= [total_crypto_value,total_shares_value]\n",
    "df_savings = pd.DataFrame(data, index = ['crypto','shares'], columns=[\"amount\"])\n",
    "\n",
    "# Display savings DataFrame\n",
    "display(df_savings)"
   ]
  },
  {
   "cell_type": "code",
   "execution_count": 13,
   "metadata": {},
   "outputs": [
    {
     "data": {
      "text/plain": [
       "<matplotlib.axes._subplots.AxesSubplot at 0x21fc9e1a5c8>"
      ]
     },
     "execution_count": 13,
     "metadata": {},
     "output_type": "execute_result"
    },
    {
     "data": {
      "image/png": "[encoded data removed]",
      "text/plain": [
       "<Figure size 432x288 with 1 Axes>"
      ]
     },
     "metadata": {},
     "output_type": "display_data"
    }
   ],
   "source": [
    "# Plot savings pie chart\n",
    "# YOUR CODE HERE!\n",
    "df_savings.plot.pie(y=\"amount\", title=\"Savings Portfolio Composition\")\n"
   ]
  },
  {
   "cell_type": "code",
   "execution_count": 14,
   "metadata": {},
   "outputs": [
    {
     "name": "stdout",
     "output_type": "stream",
     "text": [
      "Congratulations, you have enough money in this fund.\n"
     ]
    }
   ],
   "source": [
    "# Set ideal emergency fund\n",
    "emergency_fund = monthly_income * 3\n",
    "\n",
    "# Calculate total amount of savings\n",
    "# YOUR CODE HERE!\n",
    "total_savings = total_crypto_value + total_shares_value\n",
    "\n",
    "# Validate saving health\n",
    "# YOUR CODE HERE!\n",
    "if total_savings>emergency_fund:\n",
    "    print(\"Congratulations, you have enough money in this fund.\")\n",
    "elif total_savings==emergency_fund:\n",
    "    print(\"Congratulations, you have reached your goal.\")\n",
    "elif total_savings<emergency_fund:\n",
    "    print(f\"You are ${emergency_fund-total_savings} from your goal\")"
   ]
  },
  {
   "cell_type": "markdown",
   "metadata": {},
   "source": [
    "## Part 2 - Retirement Planning\n",
    "\n",
    "### Monte Carlo Simulation"
   ]
  },
  {
   "cell_type": "code",
   "execution_count": 15,
   "metadata": {},
   "outputs": [],
   "source": [
    "# Set start and end dates of five years back from today.\n",
    "# Sample results may vary from the solution based on the time frame chosen\n",
    "start_date = pd.Timestamp('2015-10-22', tz='America/New_York').isoformat()\n",
    "end_date = pd.Timestamp('2020-10-22', tz='America/New_York').isoformat()"
   ]
  },
  {
   "cell_type": "code",
   "execution_count": 18,
   "metadata": {},
   "outputs": [
    {
     "data": {
      "text/html": [
       "<div>\n",
       "<style scoped>\n",
       "    .dataframe tbody tr th:only-of-type {\n",
       "        vertical-align: middle;\n",
       "    }\n",
       "\n",
       "    .dataframe tbody tr th {\n",
       "        vertical-align: top;\n",
       "    }\n",
       "\n",
       "    .dataframe thead tr th {\n",
       "        text-align: left;\n",
       "    }\n",
       "</style>\n",
       "<table border=\"1\" class=\"dataframe\">\n",
       "  <thead>\n",
       "    <tr>\n",
       "      <th></th>\n",
       "      <th colspan=\"5\" halign=\"left\">AGG</th>\n",
       "      <th colspan=\"5\" halign=\"left\">SPY</th>\n",
       "    </tr>\n",
       "    <tr>\n",
       "      <th></th>\n",
       "      <th>open</th>\n",
       "      <th>high</th>\n",
       "      <th>low</th>\n",
       "      <th>close</th>\n",
       "      <th>volume</th>\n",
       "      <th>open</th>\n",
       "      <th>high</th>\n",
       "      <th>low</th>\n",
       "      <th>close</th>\n",
       "      <th>volume</th>\n",
       "    </tr>\n",
       "  </thead>\n",
       "  <tbody>\n",
       "    <tr>\n",
       "      <th>2015-10-22 00:00:00-04:00</th>\n",
       "      <td>109.90</td>\n",
       "      <td>110.05</td>\n",
       "      <td>109.83</td>\n",
       "      <td>109.94</td>\n",
       "      <td>1817244</td>\n",
       "      <td>202.98</td>\n",
       "      <td>205.51</td>\n",
       "      <td>202.81</td>\n",
       "      <td>205.22</td>\n",
       "      <td>121670959</td>\n",
       "    </tr>\n",
       "    <tr>\n",
       "      <th>2015-10-23 00:00:00-04:00</th>\n",
       "      <td>109.79</td>\n",
       "      <td>109.79</td>\n",
       "      <td>109.69</td>\n",
       "      <td>109.74</td>\n",
       "      <td>1344632</td>\n",
       "      <td>207.25</td>\n",
       "      <td>207.95</td>\n",
       "      <td>206.30</td>\n",
       "      <td>207.51</td>\n",
       "      <td>103135843</td>\n",
       "    </tr>\n",
       "    <tr>\n",
       "      <th>2015-10-26 00:00:00-04:00</th>\n",
       "      <td>109.85</td>\n",
       "      <td>109.90</td>\n",
       "      <td>109.74</td>\n",
       "      <td>109.79</td>\n",
       "      <td>1385981</td>\n",
       "      <td>207.30</td>\n",
       "      <td>207.37</td>\n",
       "      <td>206.56</td>\n",
       "      <td>206.97</td>\n",
       "      <td>51484043</td>\n",
       "    </tr>\n",
       "    <tr>\n",
       "      <th>2015-10-27 00:00:00-04:00</th>\n",
       "      <td>110.03</td>\n",
       "      <td>110.03</td>\n",
       "      <td>109.88</td>\n",
       "      <td>109.95</td>\n",
       "      <td>1791888</td>\n",
       "      <td>206.20</td>\n",
       "      <td>207.00</td>\n",
       "      <td>205.79</td>\n",
       "      <td>206.58</td>\n",
       "      <td>62899344</td>\n",
       "    </tr>\n",
       "    <tr>\n",
       "      <th>2015-10-28 00:00:00-04:00</th>\n",
       "      <td>109.98</td>\n",
       "      <td>110.05</td>\n",
       "      <td>109.57</td>\n",
       "      <td>109.63</td>\n",
       "      <td>1474796</td>\n",
       "      <td>206.97</td>\n",
       "      <td>208.97</td>\n",
       "      <td>206.21</td>\n",
       "      <td>208.96</td>\n",
       "      <td>115482088</td>\n",
       "    </tr>\n",
       "  </tbody>\n",
       "</table>\n",
       "</div>"
      ],
      "text/plain": [
       "                              AGG                                      SPY  \\\n",
       "                             open    high     low   close   volume    open   \n",
       "2015-10-22 00:00:00-04:00  109.90  110.05  109.83  109.94  1817244  202.98   \n",
       "2015-10-23 00:00:00-04:00  109.79  109.79  109.69  109.74  1344632  207.25   \n",
       "2015-10-26 00:00:00-04:00  109.85  109.90  109.74  109.79  1385981  207.30   \n",
       "2015-10-27 00:00:00-04:00  110.03  110.03  109.88  109.95  1791888  206.20   \n",
       "2015-10-28 00:00:00-04:00  109.98  110.05  109.57  109.63  1474796  206.97   \n",
       "\n",
       "                                                              \n",
       "                             high     low   close     volume  \n",
       "2015-10-22 00:00:00-04:00  205.51  202.81  205.22  121670959  \n",
       "2015-10-23 00:00:00-04:00  207.95  206.30  207.51  103135843  \n",
       "2015-10-26 00:00:00-04:00  207.37  206.56  206.97   51484043  \n",
       "2015-10-27 00:00:00-04:00  207.00  205.79  206.58   62899344  \n",
       "2015-10-28 00:00:00-04:00  208.97  206.21  208.96  115482088  "
      ]
     },
     "execution_count": 18,
     "metadata": {},
     "output_type": "execute_result"
    }
   ],
   "source": [
    "# Get 5 years' worth of historical data for SPY and AGG\n",
    "# YOUR CODE HERE!\n",
    "tickers =[\"AGG\", \"SPY\"]\n",
    "\n",
    "df_stock_data = alpaca.get_barset(\n",
    "    tickers,\n",
    "    timeframe,\n",
    "    start=start_date,\n",
    "    end=end_date\n",
    ").df\n",
    "\n",
    "\n",
    "# Display sample data\n",
    "df_stock_data.head()"
   ]
  },
  {
   "cell_type": "code",
   "execution_count": 21,
   "metadata": {},
   "outputs": [],
   "source": [
    "# Configuring a Monte Carlo simulation to forecast 30 years cumulative returns\n",
    "# YOUR CODE HERE!\n",
    "MC_thirtyyear = MCSimulation(\n",
    "    portfolio_data = df_stock_data,\n",
    "    weights = [.60,.40],\n",
    "    num_simulation = 1000,\n",
    "    num_trading_days = 252*30\n",
    ")"
   ]
  },
  {
   "cell_type": "code",
   "execution_count": 20,
   "metadata": {},
   "outputs": [
    {
     "data": {
      "text/html": [
       "<div>\n",
       "<style scoped>\n",
       "    .dataframe tbody tr th:only-of-type {\n",
       "        vertical-align: middle;\n",
       "    }\n",
       "\n",
       "    .dataframe tbody tr th {\n",
       "        vertical-align: top;\n",
       "    }\n",
       "\n",
       "    .dataframe thead tr th {\n",
       "        text-align: left;\n",
       "    }\n",
       "</style>\n",
       "<table border=\"1\" class=\"dataframe\">\n",
       "  <thead>\n",
       "    <tr>\n",
       "      <th></th>\n",
       "      <th colspan=\"6\" halign=\"left\">AGG</th>\n",
       "      <th colspan=\"6\" halign=\"left\">SPY</th>\n",
       "    </tr>\n",
       "    <tr>\n",
       "      <th></th>\n",
       "      <th>open</th>\n",
       "      <th>high</th>\n",
       "      <th>low</th>\n",
       "      <th>close</th>\n",
       "      <th>volume</th>\n",
       "      <th>daily_return</th>\n",
       "      <th>open</th>\n",
       "      <th>high</th>\n",
       "      <th>low</th>\n",
       "      <th>close</th>\n",
       "      <th>volume</th>\n",
       "      <th>daily_return</th>\n",
       "    </tr>\n",
       "  </thead>\n",
       "  <tbody>\n",
       "    <tr>\n",
       "      <th>2015-10-22 00:00:00-04:00</th>\n",
       "      <td>109.90</td>\n",
       "      <td>110.05</td>\n",
       "      <td>109.83</td>\n",
       "      <td>109.94</td>\n",
       "      <td>1817244</td>\n",
       "      <td>NaN</td>\n",
       "      <td>202.98</td>\n",
       "      <td>205.51</td>\n",
       "      <td>202.81</td>\n",
       "      <td>205.22</td>\n",
       "      <td>121670959</td>\n",
       "      <td>NaN</td>\n",
       "    </tr>\n",
       "    <tr>\n",
       "      <th>2015-10-23 00:00:00-04:00</th>\n",
       "      <td>109.79</td>\n",
       "      <td>109.79</td>\n",
       "      <td>109.69</td>\n",
       "      <td>109.74</td>\n",
       "      <td>1344632</td>\n",
       "      <td>-0.001819</td>\n",
       "      <td>207.25</td>\n",
       "      <td>207.95</td>\n",
       "      <td>206.30</td>\n",
       "      <td>207.51</td>\n",
       "      <td>103135843</td>\n",
       "      <td>0.011159</td>\n",
       "    </tr>\n",
       "    <tr>\n",
       "      <th>2015-10-26 00:00:00-04:00</th>\n",
       "      <td>109.85</td>\n",
       "      <td>109.90</td>\n",
       "      <td>109.74</td>\n",
       "      <td>109.79</td>\n",
       "      <td>1385981</td>\n",
       "      <td>0.000456</td>\n",
       "      <td>207.30</td>\n",
       "      <td>207.37</td>\n",
       "      <td>206.56</td>\n",
       "      <td>206.97</td>\n",
       "      <td>51484043</td>\n",
       "      <td>-0.002602</td>\n",
       "    </tr>\n",
       "    <tr>\n",
       "      <th>2015-10-27 00:00:00-04:00</th>\n",
       "      <td>110.03</td>\n",
       "      <td>110.03</td>\n",
       "      <td>109.88</td>\n",
       "      <td>109.95</td>\n",
       "      <td>1791888</td>\n",
       "      <td>0.001457</td>\n",
       "      <td>206.20</td>\n",
       "      <td>207.00</td>\n",
       "      <td>205.79</td>\n",
       "      <td>206.58</td>\n",
       "      <td>62899344</td>\n",
       "      <td>-0.001884</td>\n",
       "    </tr>\n",
       "    <tr>\n",
       "      <th>2015-10-28 00:00:00-04:00</th>\n",
       "      <td>109.98</td>\n",
       "      <td>110.05</td>\n",
       "      <td>109.57</td>\n",
       "      <td>109.63</td>\n",
       "      <td>1474796</td>\n",
       "      <td>-0.002910</td>\n",
       "      <td>206.97</td>\n",
       "      <td>208.97</td>\n",
       "      <td>206.21</td>\n",
       "      <td>208.96</td>\n",
       "      <td>115482088</td>\n",
       "      <td>0.011521</td>\n",
       "    </tr>\n",
       "  </tbody>\n",
       "</table>\n",
       "</div>"
      ],
      "text/plain": [
       "                              AGG                                   \\\n",
       "                             open    high     low   close   volume   \n",
       "2015-10-22 00:00:00-04:00  109.90  110.05  109.83  109.94  1817244   \n",
       "2015-10-23 00:00:00-04:00  109.79  109.79  109.69  109.74  1344632   \n",
       "2015-10-26 00:00:00-04:00  109.85  109.90  109.74  109.79  1385981   \n",
       "2015-10-27 00:00:00-04:00  110.03  110.03  109.88  109.95  1791888   \n",
       "2015-10-28 00:00:00-04:00  109.98  110.05  109.57  109.63  1474796   \n",
       "\n",
       "                                           SPY                          \\\n",
       "                          daily_return    open    high     low   close   \n",
       "2015-10-22 00:00:00-04:00          NaN  202.98  205.51  202.81  205.22   \n",
       "2015-10-23 00:00:00-04:00    -0.001819  207.25  207.95  206.30  207.51   \n",
       "2015-10-26 00:00:00-04:00     0.000456  207.30  207.37  206.56  206.97   \n",
       "2015-10-27 00:00:00-04:00     0.001457  206.20  207.00  205.79  206.58   \n",
       "2015-10-28 00:00:00-04:00    -0.002910  206.97  208.97  206.21  208.96   \n",
       "\n",
       "                                                   \n",
       "                              volume daily_return  \n",
       "2015-10-22 00:00:00-04:00  121670959          NaN  \n",
       "2015-10-23 00:00:00-04:00  103135843     0.011159  \n",
       "2015-10-26 00:00:00-04:00   51484043    -0.002602  \n",
       "2015-10-27 00:00:00-04:00   62899344    -0.001884  \n",
       "2015-10-28 00:00:00-04:00  115482088     0.011521  "
      ]
     },
     "execution_count": 20,
     "metadata": {},
     "output_type": "execute_result"
    }
   ],
   "source": [
    "# Printing the simulation input data\n",
    "# YOUR CODE HERE!\n",
    "MC_thirtyyear.portfolio_data.head()"
   ]
  },
  {
   "cell_type": "code",
   "execution_count": 22,
   "metadata": {},
   "outputs": [
    {
     "name": "stdout",
     "output_type": "stream",
     "text": [
      "Running Monte Carlo simulation number 0.\n",
      "Running Monte Carlo simulation number 10.\n",
      "Running Monte Carlo simulation number 20.\n",
      "Running Monte Carlo simulation number 30.\n",
      "Running Monte Carlo simulation number 40.\n",
      "Running Monte Carlo simulation number 50.\n",
      "Running Monte Carlo simulation number 60.\n",
      "Running Monte Carlo simulation number 70.\n",
      "Running Monte Carlo simulation number 80.\n",
      "Running Monte Carlo simulation number 90.\n",
      "Running Monte Carlo simulation number 100.\n",
      "Running Monte Carlo simulation number 110.\n",
      "Running Monte Carlo simulation number 120.\n",
      "Running Monte Carlo simulation number 130.\n",
      "Running Monte Carlo simulation number 140.\n",
      "Running Monte Carlo simulation number 150.\n",
      "Running Monte Carlo simulation number 160.\n",
      "Running Monte Carlo simulation number 170.\n",
      "Running Monte Carlo simulation number 180.\n",
      "Running Monte Carlo simulation number 190.\n",
      "Running Monte Carlo simulation number 200.\n",
      "Running Monte Carlo simulation number 210.\n",
      "Running Monte Carlo simulation number 220.\n",
      "Running Monte Carlo simulation number 230.\n",
      "Running Monte Carlo simulation number 240.\n",
      "Running Monte Carlo simulation number 250.\n",
      "Running Monte Carlo simulation number 260.\n",
      "Running Monte Carlo simulation number 270.\n",
      "Running Monte Carlo simulation number 280.\n",
      "Running Monte Carlo simulation number 290.\n",
      "Running Monte Carlo simulation number 300.\n",
      "Running Monte Carlo simulation number 310.\n",
      "Running Monte Carlo simulation number 320.\n",
      "Running Monte Carlo simulation number 330.\n",
      "Running Monte Carlo simulation number 340.\n",
      "Running Monte Carlo simulation number 350.\n",
      "Running Monte Carlo simulation number 360.\n",
      "Running Monte Carlo simulation number 370.\n",
      "Running Monte Carlo simulation number 380.\n",
      "Running Monte Carlo simulation number 390.\n",
      "Running Monte Carlo simulation number 400.\n",
      "Running Monte Carlo simulation number 410.\n",
      "Running Monte Carlo simulation number 420.\n",
      "Running Monte Carlo simulation number 430.\n",
      "Running Monte Carlo simulation number 440.\n",
      "Running Monte Carlo simulation number 450.\n",
      "Running Monte Carlo simulation number 460.\n",
      "Running Monte Carlo simulation number 470.\n",
      "Running Monte Carlo simulation number 480.\n",
      "Running Monte Carlo simulation number 490.\n",
      "Running Monte Carlo simulation number 500.\n",
      "Running Monte Carlo simulation number 510.\n",
      "Running Monte Carlo simulation number 520.\n",
      "Running Monte Carlo simulation number 530.\n",
      "Running Monte Carlo simulation number 540.\n",
      "Running Monte Carlo simulation number 550.\n",
      "Running Monte Carlo simulation number 560.\n",
      "Running Monte Carlo simulation number 570.\n",
      "Running Monte Carlo simulation number 580.\n",
      "Running Monte Carlo simulation number 590.\n",
      "Running Monte Carlo simulation number 600.\n",
      "Running Monte Carlo simulation number 610.\n",
      "Running Monte Carlo simulation number 620.\n",
      "Running Monte Carlo simulation number 630.\n",
      "Running Monte Carlo simulation number 640.\n",
      "Running Monte Carlo simulation number 650.\n",
      "Running Monte Carlo simulation number 660.\n",
      "Running Monte Carlo simulation number 670.\n",
      "Running Monte Carlo simulation number 680.\n",
      "Running Monte Carlo simulation number 690.\n",
      "Running Monte Carlo simulation number 700.\n",
      "Running Monte Carlo simulation number 710.\n",
      "Running Monte Carlo simulation number 720.\n",
      "Running Monte Carlo simulation number 730.\n",
      "Running Monte Carlo simulation number 740.\n",
      "Running Monte Carlo simulation number 750.\n",
      "Running Monte Carlo simulation number 760.\n",
      "Running Monte Carlo simulation number 770.\n",
      "Running Monte Carlo simulation number 780.\n",
      "Running Monte Carlo simulation number 790.\n",
      "Running Monte Carlo simulation number 800.\n",
      "Running Monte Carlo simulation number 810.\n",
      "Running Monte Carlo simulation number 820.\n",
      "Running Monte Carlo simulation number 830.\n",
      "Running Monte Carlo simulation number 840.\n",
      "Running Monte Carlo simulation number 850.\n",
      "Running Monte Carlo simulation number 860.\n",
      "Running Monte Carlo simulation number 870.\n",
      "Running Monte Carlo simulation number 880.\n",
      "Running Monte Carlo simulation number 890.\n",
      "Running Monte Carlo simulation number 900.\n",
      "Running Monte Carlo simulation number 910.\n",
      "Running Monte Carlo simulation number 920.\n",
      "Running Monte Carlo simulation number 930.\n",
      "Running Monte Carlo simulation number 940.\n",
      "Running Monte Carlo simulation number 950.\n",
      "Running Monte Carlo simulation number 960.\n",
      "Running Monte Carlo simulation number 970.\n",
      "Running Monte Carlo simulation number 980.\n",
      "Running Monte Carlo simulation number 990.\n"
     ]
    },
    {
     "data": {
      "text/html": [
       "<div>\n",
       "<style scoped>\n",
       "    .dataframe tbody tr th:only-of-type {\n",
       "        vertical-align: middle;\n",
       "    }\n",
       "\n",
       "    .dataframe tbody tr th {\n",
       "        vertical-align: top;\n",
       "    }\n",
       "\n",
       "    .dataframe thead th {\n",
       "        text-align: right;\n",
       "    }\n",
       "</style>\n",
       "<table border=\"1\" class=\"dataframe\">\n",
       "  <thead>\n",
       "    <tr style=\"text-align: right;\">\n",
       "      <th></th>\n",
       "      <th>0</th>\n",
       "      <th>1</th>\n",
       "      <th>2</th>\n",
       "      <th>3</th>\n",
       "      <th>4</th>\n",
       "      <th>5</th>\n",
       "      <th>6</th>\n",
       "      <th>7</th>\n",
       "      <th>8</th>\n",
       "      <th>9</th>\n",
       "      <th>...</th>\n",
       "      <th>990</th>\n",
       "      <th>991</th>\n",
       "      <th>992</th>\n",
       "      <th>993</th>\n",
       "      <th>994</th>\n",
       "      <th>995</th>\n",
       "      <th>996</th>\n",
       "      <th>997</th>\n",
       "      <th>998</th>\n",
       "      <th>999</th>\n",
       "    </tr>\n",
       "  </thead>\n",
       "  <tbody>\n",
       "    <tr>\n",
       "      <th>0</th>\n",
       "      <td>1.000000</td>\n",
       "      <td>1.000000</td>\n",
       "      <td>1.000000</td>\n",
       "      <td>1.000000</td>\n",
       "      <td>1.000000</td>\n",
       "      <td>1.000000</td>\n",
       "      <td>1.000000</td>\n",
       "      <td>1.000000</td>\n",
       "      <td>1.000000</td>\n",
       "      <td>1.000000</td>\n",
       "      <td>...</td>\n",
       "      <td>1.000000</td>\n",
       "      <td>1.000000</td>\n",
       "      <td>1.000000</td>\n",
       "      <td>1.000000</td>\n",
       "      <td>1.000000</td>\n",
       "      <td>1.000000</td>\n",
       "      <td>1.000000</td>\n",
       "      <td>1.000000</td>\n",
       "      <td>1.000000</td>\n",
       "      <td>1.000000</td>\n",
       "    </tr>\n",
       "    <tr>\n",
       "      <th>1</th>\n",
       "      <td>1.013783</td>\n",
       "      <td>0.993087</td>\n",
       "      <td>0.995201</td>\n",
       "      <td>1.002014</td>\n",
       "      <td>1.000224</td>\n",
       "      <td>0.998443</td>\n",
       "      <td>1.002384</td>\n",
       "      <td>0.994046</td>\n",
       "      <td>1.005817</td>\n",
       "      <td>0.991388</td>\n",
       "      <td>...</td>\n",
       "      <td>1.012852</td>\n",
       "      <td>0.992918</td>\n",
       "      <td>1.001443</td>\n",
       "      <td>0.988197</td>\n",
       "      <td>1.007956</td>\n",
       "      <td>1.008206</td>\n",
       "      <td>1.002784</td>\n",
       "      <td>0.994610</td>\n",
       "      <td>0.990270</td>\n",
       "      <td>0.989879</td>\n",
       "    </tr>\n",
       "    <tr>\n",
       "      <th>2</th>\n",
       "      <td>1.024078</td>\n",
       "      <td>0.994409</td>\n",
       "      <td>0.991993</td>\n",
       "      <td>1.004045</td>\n",
       "      <td>0.994892</td>\n",
       "      <td>0.993421</td>\n",
       "      <td>0.997935</td>\n",
       "      <td>0.996216</td>\n",
       "      <td>1.007116</td>\n",
       "      <td>0.996632</td>\n",
       "      <td>...</td>\n",
       "      <td>1.022355</td>\n",
       "      <td>0.997297</td>\n",
       "      <td>1.001733</td>\n",
       "      <td>0.998457</td>\n",
       "      <td>1.014528</td>\n",
       "      <td>1.008570</td>\n",
       "      <td>1.006205</td>\n",
       "      <td>0.994829</td>\n",
       "      <td>0.997116</td>\n",
       "      <td>0.993961</td>\n",
       "    </tr>\n",
       "    <tr>\n",
       "      <th>3</th>\n",
       "      <td>1.025503</td>\n",
       "      <td>1.001314</td>\n",
       "      <td>0.993065</td>\n",
       "      <td>1.009175</td>\n",
       "      <td>0.996284</td>\n",
       "      <td>0.989477</td>\n",
       "      <td>0.992293</td>\n",
       "      <td>1.002278</td>\n",
       "      <td>1.012713</td>\n",
       "      <td>0.992252</td>\n",
       "      <td>...</td>\n",
       "      <td>1.018118</td>\n",
       "      <td>0.995732</td>\n",
       "      <td>1.002253</td>\n",
       "      <td>1.006631</td>\n",
       "      <td>1.009414</td>\n",
       "      <td>1.008765</td>\n",
       "      <td>1.002365</td>\n",
       "      <td>0.992472</td>\n",
       "      <td>1.008881</td>\n",
       "      <td>0.999956</td>\n",
       "    </tr>\n",
       "    <tr>\n",
       "      <th>4</th>\n",
       "      <td>1.022920</td>\n",
       "      <td>0.996186</td>\n",
       "      <td>0.991283</td>\n",
       "      <td>1.007780</td>\n",
       "      <td>0.999207</td>\n",
       "      <td>0.992897</td>\n",
       "      <td>0.989983</td>\n",
       "      <td>1.008591</td>\n",
       "      <td>1.013417</td>\n",
       "      <td>0.989102</td>\n",
       "      <td>...</td>\n",
       "      <td>1.015442</td>\n",
       "      <td>1.000431</td>\n",
       "      <td>1.007232</td>\n",
       "      <td>1.008099</td>\n",
       "      <td>1.010308</td>\n",
       "      <td>1.003508</td>\n",
       "      <td>1.001348</td>\n",
       "      <td>0.999382</td>\n",
       "      <td>1.009662</td>\n",
       "      <td>0.993741</td>\n",
       "    </tr>\n",
       "    <tr>\n",
       "      <th>...</th>\n",
       "      <td>...</td>\n",
       "      <td>...</td>\n",
       "      <td>...</td>\n",
       "      <td>...</td>\n",
       "      <td>...</td>\n",
       "      <td>...</td>\n",
       "      <td>...</td>\n",
       "      <td>...</td>\n",
       "      <td>...</td>\n",
       "      <td>...</td>\n",
       "      <td>...</td>\n",
       "      <td>...</td>\n",
       "      <td>...</td>\n",
       "      <td>...</td>\n",
       "      <td>...</td>\n",
       "      <td>...</td>\n",
       "      <td>...</td>\n",
       "      <td>...</td>\n",
       "      <td>...</td>\n",
       "      <td>...</td>\n",
       "      <td>...</td>\n",
       "    </tr>\n",
       "    <tr>\n",
       "      <th>7556</th>\n",
       "      <td>7.758901</td>\n",
       "      <td>5.955383</td>\n",
       "      <td>2.253553</td>\n",
       "      <td>4.620912</td>\n",
       "      <td>2.409856</td>\n",
       "      <td>5.828373</td>\n",
       "      <td>4.808174</td>\n",
       "      <td>2.563759</td>\n",
       "      <td>6.166444</td>\n",
       "      <td>3.205184</td>\n",
       "      <td>...</td>\n",
       "      <td>9.350034</td>\n",
       "      <td>3.527236</td>\n",
       "      <td>3.879266</td>\n",
       "      <td>4.531312</td>\n",
       "      <td>5.044886</td>\n",
       "      <td>4.009385</td>\n",
       "      <td>11.191503</td>\n",
       "      <td>3.764908</td>\n",
       "      <td>4.772784</td>\n",
       "      <td>3.429525</td>\n",
       "    </tr>\n",
       "    <tr>\n",
       "      <th>7557</th>\n",
       "      <td>7.768384</td>\n",
       "      <td>6.019195</td>\n",
       "      <td>2.265537</td>\n",
       "      <td>4.596314</td>\n",
       "      <td>2.424679</td>\n",
       "      <td>5.822705</td>\n",
       "      <td>4.800283</td>\n",
       "      <td>2.556618</td>\n",
       "      <td>6.147374</td>\n",
       "      <td>3.172658</td>\n",
       "      <td>...</td>\n",
       "      <td>9.301940</td>\n",
       "      <td>3.547696</td>\n",
       "      <td>3.899465</td>\n",
       "      <td>4.526015</td>\n",
       "      <td>5.038893</td>\n",
       "      <td>4.029005</td>\n",
       "      <td>11.292747</td>\n",
       "      <td>3.758217</td>\n",
       "      <td>4.757782</td>\n",
       "      <td>3.451764</td>\n",
       "    </tr>\n",
       "    <tr>\n",
       "      <th>7558</th>\n",
       "      <td>7.767690</td>\n",
       "      <td>6.023296</td>\n",
       "      <td>2.269202</td>\n",
       "      <td>4.556681</td>\n",
       "      <td>2.426982</td>\n",
       "      <td>5.804099</td>\n",
       "      <td>4.824447</td>\n",
       "      <td>2.545554</td>\n",
       "      <td>6.168946</td>\n",
       "      <td>3.195396</td>\n",
       "      <td>...</td>\n",
       "      <td>9.293766</td>\n",
       "      <td>3.570000</td>\n",
       "      <td>3.924976</td>\n",
       "      <td>4.532743</td>\n",
       "      <td>5.015041</td>\n",
       "      <td>4.039886</td>\n",
       "      <td>11.368597</td>\n",
       "      <td>3.739940</td>\n",
       "      <td>4.779736</td>\n",
       "      <td>3.462658</td>\n",
       "    </tr>\n",
       "    <tr>\n",
       "      <th>7559</th>\n",
       "      <td>7.778552</td>\n",
       "      <td>6.063420</td>\n",
       "      <td>2.271149</td>\n",
       "      <td>4.542361</td>\n",
       "      <td>2.422298</td>\n",
       "      <td>5.854300</td>\n",
       "      <td>4.823941</td>\n",
       "      <td>2.559049</td>\n",
       "      <td>6.120086</td>\n",
       "      <td>3.187414</td>\n",
       "      <td>...</td>\n",
       "      <td>9.317738</td>\n",
       "      <td>3.582190</td>\n",
       "      <td>3.889621</td>\n",
       "      <td>4.472566</td>\n",
       "      <td>5.074117</td>\n",
       "      <td>4.033839</td>\n",
       "      <td>11.332433</td>\n",
       "      <td>3.754545</td>\n",
       "      <td>4.761493</td>\n",
       "      <td>3.446507</td>\n",
       "    </tr>\n",
       "    <tr>\n",
       "      <th>7560</th>\n",
       "      <td>7.830925</td>\n",
       "      <td>6.105231</td>\n",
       "      <td>2.249225</td>\n",
       "      <td>4.518566</td>\n",
       "      <td>2.424507</td>\n",
       "      <td>5.819030</td>\n",
       "      <td>4.823867</td>\n",
       "      <td>2.571102</td>\n",
       "      <td>6.120377</td>\n",
       "      <td>3.177200</td>\n",
       "      <td>...</td>\n",
       "      <td>9.224660</td>\n",
       "      <td>3.602547</td>\n",
       "      <td>3.870894</td>\n",
       "      <td>4.478615</td>\n",
       "      <td>5.062551</td>\n",
       "      <td>4.052906</td>\n",
       "      <td>11.401063</td>\n",
       "      <td>3.739943</td>\n",
       "      <td>4.747231</td>\n",
       "      <td>3.444468</td>\n",
       "    </tr>\n",
       "  </tbody>\n",
       "</table>\n",
       "<p>7561 rows × 1000 columns</p>\n",
       "</div>"
      ],
      "text/plain": [
       "           0         1         2         3         4         5         6    \\\n",
       "0     1.000000  1.000000  1.000000  1.000000  1.000000  1.000000  1.000000   \n",
       "1     1.013783  0.993087  0.995201  1.002014  1.000224  0.998443  1.002384   \n",
       "2     1.024078  0.994409  0.991993  1.004045  0.994892  0.993421  0.997935   \n",
       "3     1.025503  1.001314  0.993065  1.009175  0.996284  0.989477  0.992293   \n",
       "4     1.022920  0.996186  0.991283  1.007780  0.999207  0.992897  0.989983   \n",
       "...        ...       ...       ...       ...       ...       ...       ...   \n",
       "7556  7.758901  5.955383  2.253553  4.620912  2.409856  5.828373  4.808174   \n",
       "7557  7.768384  6.019195  2.265537  4.596314  2.424679  5.822705  4.800283   \n",
       "7558  7.767690  6.023296  2.269202  4.556681  2.426982  5.804099  4.824447   \n",
       "7559  7.778552  6.063420  2.271149  4.542361  2.422298  5.854300  4.823941   \n",
       "7560  7.830925  6.105231  2.249225  4.518566  2.424507  5.819030  4.823867   \n",
       "\n",
       "           7         8         9    ...       990       991       992  \\\n",
       "0     1.000000  1.000000  1.000000  ...  1.000000  1.000000  1.000000   \n",
       "1     0.994046  1.005817  0.991388  ...  1.012852  0.992918  1.001443   \n",
       "2     0.996216  1.007116  0.996632  ...  1.022355  0.997297  1.001733   \n",
       "3     1.002278  1.012713  0.992252  ...  1.018118  0.995732  1.002253   \n",
       "4     1.008591  1.013417  0.989102  ...  1.015442  1.000431  1.007232   \n",
       "...        ...       ...       ...  ...       ...       ...       ...   \n",
       "7556  2.563759  6.166444  3.205184  ...  9.350034  3.527236  3.879266   \n",
       "7557  2.556618  6.147374  3.172658  ...  9.301940  3.547696  3.899465   \n",
       "7558  2.545554  6.168946  3.195396  ...  9.293766  3.570000  3.924976   \n",
       "7559  2.559049  6.120086  3.187414  ...  9.317738  3.582190  3.889621   \n",
       "7560  2.571102  6.120377  3.177200  ...  9.224660  3.602547  3.870894   \n",
       "\n",
       "           993       994       995        996       997       998       999  \n",
       "0     1.000000  1.000000  1.000000   1.000000  1.000000  1.000000  1.000000  \n",
       "1     0.988197  1.007956  1.008206   1.002784  0.994610  0.990270  0.989879  \n",
       "2     0.998457  1.014528  1.008570   1.006205  0.994829  0.997116  0.993961  \n",
       "3     1.006631  1.009414  1.008765   1.002365  0.992472  1.008881  0.999956  \n",
       "4     1.008099  1.010308  1.003508   1.001348  0.999382  1.009662  0.993741  \n",
       "...        ...       ...       ...        ...       ...       ...       ...  \n",
       "7556  4.531312  5.044886  4.009385  11.191503  3.764908  4.772784  3.429525  \n",
       "7557  4.526015  5.038893  4.029005  11.292747  3.758217  4.757782  3.451764  \n",
       "7558  4.532743  5.015041  4.039886  11.368597  3.739940  4.779736  3.462658  \n",
       "7559  4.472566  5.074117  4.033839  11.332433  3.754545  4.761493  3.446507  \n",
       "7560  4.478615  5.062551  4.052906  11.401063  3.739943  4.747231  3.444468  \n",
       "\n",
       "[7561 rows x 1000 columns]"
      ]
     },
     "execution_count": 22,
     "metadata": {},
     "output_type": "execute_result"
    }
   ],
   "source": [
    "# Running a Monte Carlo simulation to forecast 30 years cumulative returns\n",
    "# YOUR CODE HERE!\n",
    "MC_thirtyyear.calc_cumulative_return()\n"
   ]
  },
  {
   "cell_type": "code",
   "execution_count": 23,
   "metadata": {},
   "outputs": [
    {
     "data": {
      "image/png": "[encoded data removed]",
      "text/plain": [
       "<Figure size 432x288 with 1 Axes>"
      ]
     },
     "metadata": {
      "needs_background": "light"
     },
     "output_type": "display_data"
    }
   ],
   "source": [
    "# Plot simulation outcomes\n",
    "# YOUR CODE HERE!\n",
    "line_plot = MC_thirtyyear.plot_simulation()"
   ]
  },
  {
   "cell_type": "code",
   "execution_count": 24,
   "metadata": {},
   "outputs": [
    {
     "data": {
      "image/png": "[encoded data removed]",
      "text/plain": [
       "<Figure size 432x288 with 1 Axes>"
      ]
     },
     "metadata": {
      "needs_background": "light"
     },
     "output_type": "display_data"
    }
   ],
   "source": [
    "# Plot probability distribution and confidence intervals\n",
    "# YOUR CODE HERE!\n",
    "dist_plot = MC_thirtyyear.plot_distribution()"
   ]
  },
  {
   "cell_type": "markdown",
   "metadata": {},
   "source": [
    "### Retirement Analysis"
   ]
  },
  {
   "cell_type": "code",
   "execution_count": 25,
   "metadata": {},
   "outputs": [
    {
     "name": "stdout",
     "output_type": "stream",
     "text": [
      "count           1000.000000\n",
      "mean               5.475847\n",
      "std                2.642814\n",
      "min                1.113264\n",
      "25%                3.636801\n",
      "50%                4.976715\n",
      "75%                6.637364\n",
      "max               24.578639\n",
      "95% CI Lower       2.065515\n",
      "95% CI Upper      12.238784\n",
      "Name: 7560, dtype: float64\n"
     ]
    }
   ],
   "source": [
    "# Fetch summary statistics from the Monte Carlo simulation results\n",
    "# YOUR CODE HERE!\n",
    "tbl = MC_thirtyyear.summarize_cumulative_return()\n",
    "\n",
    "# Print summary statistics\n",
    "# YOUR CODE HERE!\n",
    "print(tbl)"
   ]
  },
  {
   "cell_type": "markdown",
   "metadata": {},
   "source": [
    "### Calculate the expected portfolio return at the 95% lower and upper confidence intervals based on a `$20,000` initial investment."
   ]
  },
  {
   "cell_type": "code",
   "execution_count": 28,
   "metadata": {},
   "outputs": [
    {
     "name": "stdout",
     "output_type": "stream",
     "text": [
      "There is a 95% chance that an initial investment of $20000 in the portfolio over the next 30 years will end within in the range of $41310.29 and $244775.69\n"
     ]
    }
   ],
   "source": [
    "# Set initial investment\n",
    "initial_investment = 20000\n",
    "\n",
    "# Use the lower and upper `95%` confidence intervals to calculate the range of the possible outcomes of our $20,000\n",
    "# YOUR CODE HERE!\n",
    "ci_lower = round(tbl[8]*20000,2)\n",
    "ci_upper = round(tbl[9]*20000,2)\n",
    "\n",
    "\n",
    "# Print results\n",
    "print(f\"There is a 95% chance that an initial investment of ${initial_investment} in the portfolio\"\n",
    "      f\" over the next 30 years will end within in the range of\"\n",
    "      f\" ${ci_lower} and ${ci_upper}\")"
   ]
  },
  {
   "cell_type": "markdown",
   "metadata": {},
   "source": [
    "### Calculate the expected portfolio return at the `95%` lower and upper confidence intervals based on a `50%` increase in the initial investment."
   ]
  },
  {
   "cell_type": "code",
   "execution_count": 29,
   "metadata": {},
   "outputs": [
    {
     "name": "stdout",
     "output_type": "stream",
     "text": [
      "There is a 95% chance that an initial investment of $30000.0 in the portfolio over the next 30 years will end within in the range of $61965.44 and $367163.53\n"
     ]
    }
   ],
   "source": [
    "# Set initial investment\n",
    "initial_investment = 20000 * 1.5\n",
    "\n",
    "# Use the lower and upper `95%` confidence intervals to calculate the range of the possible outcomes of our $30,000\n",
    "# YOUR CODE HERE!\n",
    "ci_lower = round(tbl[8]*(20000*1.5),2)\n",
    "ci_upper = round(tbl[9]*(20000*1.5),2)\n",
    "\n",
    "\n",
    "\n",
    "# Print results\n",
    "print(f\"There is a 95% chance that an initial investment of ${initial_investment} in the portfolio\"\n",
    "      f\" over the next 30 years will end within in the range of\"\n",
    "      f\" ${ci_lower} and ${ci_upper}\")"
   ]
  },
  {
   "cell_type": "markdown",
   "metadata": {},
   "source": [
    "## Optional Challenge - Early Retirement\n",
    "\n",
    "\n",
    "### Five Years Retirement Option"
   ]
  },
  {
   "cell_type": "code",
   "execution_count": null,
   "metadata": {},
   "outputs": [],
   "source": [
    "# Configuring a Monte Carlo simulation to forecast 5 years cumulative returns\n",
    "# YOUR CODE HERE!"
   ]
  },
  {
   "cell_type": "code",
   "execution_count": null,
   "metadata": {},
   "outputs": [],
   "source": [
    "# Running a Monte Carlo simulation to forecast 5 years cumulative returns\n",
    "# YOUR CODE HERE!"
   ]
  },
  {
   "cell_type": "code",
   "execution_count": null,
   "metadata": {},
   "outputs": [],
   "source": [
    "# Plot simulation outcomes\n",
    "# YOUR CODE HERE!"
   ]
  },
  {
   "cell_type": "code",
   "execution_count": null,
   "metadata": {},
   "outputs": [],
   "source": [
    "# Plot probability distribution and confidence intervals\n",
    "# YOUR CODE HERE!"
   ]
  },
  {
   "cell_type": "code",
   "execution_count": null,
   "metadata": {},
   "outputs": [],
   "source": [
    "# Fetch summary statistics from the Monte Carlo simulation results\n",
    "# YOUR CODE HERE!\n",
    "\n",
    "# Print summary statistics\n",
    "# YOUR CODE HERE!"
   ]
  },
  {
   "cell_type": "code",
   "execution_count": null,
   "metadata": {},
   "outputs": [],
   "source": [
    "# Set initial investment\n",
    "# YOUR CODE HERE!\n",
    "\n",
    "# Use the lower and upper `95%` confidence intervals to calculate the range of the possible outcomes of our $60,000\n",
    "# YOUR CODE HERE!\n",
    "\n",
    "# Print results\n",
    "print(f\"There is a 95% chance that an initial investment of ${initial_investment} in the portfolio\"\n",
    "      f\" over the next 5 years will end within in the range of\"\n",
    "      f\" ${ci_lower_five} and ${ci_upper_five}\")"
   ]
  },
  {
   "cell_type": "markdown",
   "metadata": {},
   "source": [
    "### Ten Years Retirement Option"
   ]
  },
  {
   "cell_type": "code",
   "execution_count": null,
   "metadata": {},
   "outputs": [],
   "source": [
    "# Configuring a Monte Carlo simulation to forecast 10 years cumulative returns\n",
    "# YOUR CODE HERE!"
   ]
  },
  {
   "cell_type": "code",
   "execution_count": null,
   "metadata": {},
   "outputs": [],
   "source": [
    "# Running a Monte Carlo simulation to forecast 10 years cumulative returns\n",
    "# YOUR CODE HERE!"
   ]
  },
  {
   "cell_type": "code",
   "execution_count": null,
   "metadata": {},
   "outputs": [],
   "source": [
    "# Plot simulation outcomes\n",
    "# YOUR CODE HERE!"
   ]
  },
  {
   "cell_type": "code",
   "execution_count": null,
   "metadata": {},
   "outputs": [],
   "source": [
    "# Plot probability distribution and confidence intervals\n",
    "# YOUR CODE HERE!"
   ]
  },
  {
   "cell_type": "code",
   "execution_count": null,
   "metadata": {},
   "outputs": [],
   "source": [
    "# Fetch summary statistics from the Monte Carlo simulation results\n",
    "# YOUR CODE HERE!\n",
    "\n",
    "# Print summary statistics\n",
    "# YOUR CODE HERE!"
   ]
  },
  {
   "cell_type": "code",
   "execution_count": null,
   "metadata": {},
   "outputs": [],
   "source": [
    "# Set initial investment\n",
    "# YOUR CODE HERE!\n",
    "\n",
    "# Use the lower and upper `95%` confidence intervals to calculate the range of the possible outcomes of our $60,000\n",
    "# YOUR CODE HERE!\n",
    "\n",
    "# Print results\n",
    "print(f\"There is a 95% chance that an initial investment of ${initial_investment} in the portfolio\"\n",
    "      f\" over the next 10 years will end within in the range of\"\n",
    "      f\" ${ci_lower_ten} and ${ci_upper_ten}\")"
   ]
  }
 ],
 "metadata": {
  "kernelspec": {
   "display_name": "alpacaenv",
   "language": "python",
   "name": "alpacaenv"
  },
  "language_info": {
   "codemirror_mode": {
    "name": "ipython",
    "version": 3
   },
   "file_extension": ".py",
   "mimetype": "text/x-python",
   "name": "python",
   "nbconvert_exporter": "python",
   "pygments_lexer": "ipython3",
   "version": "3.7.7"
  }
 },
 "nbformat": 4,
 "nbformat_minor": 4
}
